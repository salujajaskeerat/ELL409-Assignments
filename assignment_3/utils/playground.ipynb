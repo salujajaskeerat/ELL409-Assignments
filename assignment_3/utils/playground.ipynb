{
 "cells": [
  {
   "cell_type": "code",
   "execution_count": 32,
   "metadata": {},
   "outputs": [],
   "source": [
    "\n",
    "import tensorflow as tf\n",
    "%reload_ext autoreload\n",
    "%autoreload 2\n",
    "\n",
    "import numpy as np\n",
    "import pandas as pd\n",
    "from neuralNet import NeuralNet\n",
    "\n"
   ]
  },
  {
   "cell_type": "code",
   "execution_count": 2,
   "metadata": {},
   "outputs": [],
   "source": [
    "def vectorized_result(j):\n",
    "\n",
    "    e = np.zeros((10, 1))\n",
    "    e[j] = 1.0\n",
    "    return e\n"
   ]
  },
  {
   "cell_type": "code",
   "execution_count": 52,
   "metadata": {},
   "outputs": [],
   "source": [
    "data = pd.read_csv('./../data/part1.csv',header=None)\n",
    "\n",
    "X = np.array(data.iloc[:, :784])\n",
    "Y = np.array(data.iloc[:, -1], dtype=np.int32)\n",
    "n = X.shape[0]\n",
    "idx = np.arange(0, len(X))\n",
    "np.random.shuffle(idx)\n",
    "frac = int(0.8*len(X))\n",
    "train_x = [np.reshape(x, (-1, 1)) for x in X[idx[:frac]]]\n",
    "train_y = [vectorized_result(y) for y in Y[idx[:frac]]]\n",
    "train_data = list(zip(train_x, train_y))\n",
    "test_x = [np.reshape(x, (-1, 1)) for x in X[idx[frac:]]]\n",
    "test_y = Y[idx[frac:]]\n",
    "test_data = list(zip(test_x, test_y))\n",
    "\n"
   ]
  },
  {
   "cell_type": "code",
   "execution_count": 25,
   "metadata": {},
   "outputs": [],
   "source": [
    "data = pd.read_csv(\"./../data/mnist_784.csv\",dtype=np.float64)\n",
    "X = np.array(data.iloc[:, :784])\n",
    "Y = np.array(data.iloc[:, -1], dtype=np.int32)\n",
    "n = X.shape[0]\n",
    "idx = np.arange(0,len(X))\n",
    "np.random.shuffle(idx)\n",
    "frac = int(0.8*len(X))\n",
    "train_x = [np.reshape(x, (-1, 1)) for x in X[idx[:frac]]]\n",
    "train_y = [vectorized_result(y) for y in Y[idx[:frac]]]\n",
    "train_data = list(zip(train_x, train_y))\n",
    "test_x = [np.reshape(x, (-1, 1)) for x in X[idx[frac:]]]\n",
    "test_y = Y[idx[frac:]]\n",
    "test_data = list(zip(test_x, test_y))\n",
    "\n"
   ]
  },
  {
   "cell_type": "code",
   "execution_count": 24,
   "metadata": {},
   "outputs": [],
   "source": [
    "idx = np.random.shuffle(np.arange( len(X)))\n",
    "idx"
   ]
  },
  {
   "cell_type": "code",
   "execution_count": 60,
   "metadata": {},
   "outputs": [
    {
     "name": "stdout",
     "output_type": "stream",
     "text": [
      "Epoch:1 Test data score : =291 / 600\n",
      "Epoch:2 Test data score : =406 / 600\n",
      "Epoch:3 Test data score : =443 / 600\n",
      "Epoch:4 Test data score : =481 / 600\n",
      "Epoch:5 Test data score : =486 / 600\n",
      "Epoch:6 Test data score : =502 / 600\n",
      "Epoch:7 Test data score : =486 / 600\n",
      "Epoch:8 Test data score : =504 / 600\n",
      "Epoch:9 Test data score : =507 / 600\n",
      "Epoch:10 Test data score : =497 / 600\n",
      "Epoch:11 Test data score : =499 / 600\n",
      "Epoch:12 Test data score : =528 / 600\n",
      "Epoch:13 Test data score : =521 / 600\n",
      "Epoch:14 Test data score : =525 / 600\n",
      "Epoch:15 Test data score : =522 / 600\n",
      "Epoch:16 Test data score : =528 / 600\n",
      "Epoch:17 Test data score : =529 / 600\n",
      "Epoch:18 Test data score : =529 / 600\n",
      "Epoch:19 Test data score : =524 / 600\n",
      "Epoch:20 Test data score : =529 / 600\n",
      "Epoch:21 Test data score : =527 / 600\n",
      "Epoch:22 Test data score : =531 / 600\n",
      "Epoch:23 Test data score : =530 / 600\n",
      "Epoch:24 Test data score : =533 / 600\n",
      "Epoch:25 Test data score : =532 / 600\n",
      "Epoch:26 Test data score : =532 / 600\n",
      "Epoch:27 Test data score : =533 / 600\n",
      "Epoch:28 Test data score : =530 / 600\n",
      "Epoch:29 Test data score : =532 / 600\n",
      "Epoch:30 Test data score : =531 / 600\n"
     ]
    }
   ],
   "source": [
    "nn =NeuralNet([784,200,30,10])\n",
    "nn.fit(train_data,epochs=30,mini_batch_size=10,eta=7.0,test_data=test_data)"
   ]
  },
  {
   "cell_type": "code",
   "execution_count": null,
   "metadata": {},
   "outputs": [],
   "source": []
  }
 ],
 "metadata": {
  "interpreter": {
   "hash": "142202a6d55f034b892f91db51a3803b21b6416721fda582e6f8bd5f7dc308bc"
  },
  "kernelspec": {
   "display_name": "Python 3.9.7 64-bit ('venv': venv)",
   "name": "python3"
  },
  "language_info": {
   "codemirror_mode": {
    "name": "ipython",
    "version": 3
   },
   "file_extension": ".py",
   "mimetype": "text/x-python",
   "name": "python",
   "nbconvert_exporter": "python",
   "pygments_lexer": "ipython3",
   "version": "3.9.7"
  },
  "orig_nbformat": 4
 },
 "nbformat": 4,
 "nbformat_minor": 2
}
