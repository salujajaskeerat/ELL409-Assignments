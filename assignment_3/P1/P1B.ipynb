{
 "cells": [
  {
   "cell_type": "code",
   "execution_count": 1,
   "metadata": {},
   "outputs": [],
   "source": [
    "# import tensorflow as tf\n",
    "import seaborn as sns\n",
    "import matplotlib.pyplot as plt\n",
    "import numpy as np\n",
    "import pandas as pd\n",
    "%reload_ext autoreload\n",
    "%autoreload 2\n",
    "import sys\n",
    "sys.path.insert(0,'../utils/')\n",
    "from neuralNet import NeuralNet\n",
    "from search import gridSearchCV\n",
    "sns.set_style(\"darkgrid\")\n",
    "\n",
    "from search import ParamGrid"
   ]
  },
  {
   "cell_type": "code",
   "execution_count": 29,
   "metadata": {},
   "outputs": [],
   "source": [
    "def vectorized_result(j):\n",
    "\n",
    "    y = np.zeros((10, 1))\n",
    "    y[j] = 1.0\n",
    "    return y\n",
    "\n",
    "\n",
    "data = pd.read_csv('./../data/pca.csv', header=None)\n",
    "\n",
    "X = np.array(data.iloc[:, :-1])\n",
    "Y = np.array(data.iloc[:, -1], dtype=np.int32)\n",
    "n = X.shape[0]\n",
    "idx = np.arange(0, len(X))\n",
    "np.random.shuffle(idx)\n",
    "frac = int(0.8*len(X))\n",
    "train_x = np.array([np.reshape(x, (-1, 1)) for x in X[idx[:frac]]])\n",
    "train_y = [vectorized_result(y) for y in Y[idx[:frac]]]\n",
    "train_data = list(zip(train_x, train_y))\n",
    "test_x = np.array([np.reshape(x, (-1, 1)) for x in X[idx[frac:]]])\n",
    "test_y = Y[idx[frac:]]\n",
    "test_data = list(zip(test_x, test_y))\n"
   ]
  },
  {
   "cell_type": "code",
   "execution_count": 30,
   "metadata": {},
   "outputs": [],
   "source": [
    "train_images = np.array([np.reshape(x, (5, 5)) for x in X[idx[:frac]]])\n",
    "train_labels = np.array(Y[idx[:frac]])\n",
    "test_images = np.array([np.reshape(x, (5, 5)) for x in X[idx[frac:]]])\n",
    "test_labels = np.array(Y[idx[frac:]])\n"
   ]
  },
  {
   "cell_type": "code",
   "execution_count": 4,
   "metadata": {},
   "outputs": [],
   "source": [
    "from tensorflow import keras\n"
   ]
  },
  {
   "cell_type": "code",
   "execution_count": 42,
   "metadata": {},
   "outputs": [
    {
     "name": "stdout",
     "output_type": "stream",
     "text": [
      "Epoch 1/25\n",
      "75/75 [==============================] - 1s 5ms/step - loss: 2.1747 - accuracy: 0.2237 - val_loss: 1.9622 - val_accuracy: 0.4200\n",
      "Epoch 2/25\n",
      "75/75 [==============================] - 0s 5ms/step - loss: 1.7110 - accuracy: 0.5100 - val_loss: 1.4973 - val_accuracy: 0.5733\n",
      "Epoch 3/25\n",
      "75/75 [==============================] - 0s 4ms/step - loss: 1.2439 - accuracy: 0.6421 - val_loss: 1.1104 - val_accuracy: 0.6850\n",
      "Epoch 4/25\n",
      "75/75 [==============================] - 0s 2ms/step - loss: 0.9331 - accuracy: 0.7163 - val_loss: 0.8777 - val_accuracy: 0.7433\n",
      "Epoch 5/25\n",
      "75/75 [==============================] - 0s 2ms/step - loss: 0.7610 - accuracy: 0.7646 - val_loss: 0.7419 - val_accuracy: 0.7883\n",
      "Epoch 6/25\n",
      "75/75 [==============================] - 0s 2ms/step - loss: 0.6575 - accuracy: 0.7992 - val_loss: 0.6575 - val_accuracy: 0.8150\n",
      "Epoch 7/25\n",
      "75/75 [==============================] - 0s 2ms/step - loss: 0.5845 - accuracy: 0.8221 - val_loss: 0.6007 - val_accuracy: 0.8300\n",
      "Epoch 8/25\n",
      "75/75 [==============================] - 0s 2ms/step - loss: 0.5298 - accuracy: 0.8383 - val_loss: 0.5540 - val_accuracy: 0.8317\n",
      "Epoch 9/25\n",
      "75/75 [==============================] - 0s 2ms/step - loss: 0.4877 - accuracy: 0.8521 - val_loss: 0.5165 - val_accuracy: 0.8483\n",
      "Epoch 10/25\n",
      "75/75 [==============================] - 0s 2ms/step - loss: 0.4548 - accuracy: 0.8625 - val_loss: 0.4898 - val_accuracy: 0.8517\n",
      "Epoch 11/25\n",
      "75/75 [==============================] - 0s 3ms/step - loss: 0.4252 - accuracy: 0.8717 - val_loss: 0.4664 - val_accuracy: 0.8600\n",
      "Epoch 12/25\n",
      "75/75 [==============================] - 0s 5ms/step - loss: 0.4053 - accuracy: 0.8771 - val_loss: 0.4505 - val_accuracy: 0.8750\n",
      "Epoch 13/25\n",
      "75/75 [==============================] - 0s 3ms/step - loss: 0.3841 - accuracy: 0.8850 - val_loss: 0.4352 - val_accuracy: 0.8783\n",
      "Epoch 14/25\n",
      "75/75 [==============================] - 0s 2ms/step - loss: 0.3683 - accuracy: 0.8913 - val_loss: 0.4237 - val_accuracy: 0.8800\n",
      "Epoch 15/25\n",
      "75/75 [==============================] - 0s 3ms/step - loss: 0.3548 - accuracy: 0.8933 - val_loss: 0.4187 - val_accuracy: 0.8783\n",
      "Epoch 16/25\n",
      "75/75 [==============================] - 0s 2ms/step - loss: 0.3403 - accuracy: 0.8963 - val_loss: 0.4107 - val_accuracy: 0.8850\n",
      "Epoch 17/25\n",
      "75/75 [==============================] - 0s 2ms/step - loss: 0.3284 - accuracy: 0.9029 - val_loss: 0.4045 - val_accuracy: 0.8833\n",
      "Epoch 18/25\n",
      "75/75 [==============================] - 0s 2ms/step - loss: 0.3186 - accuracy: 0.9042 - val_loss: 0.3994 - val_accuracy: 0.8933\n",
      "Epoch 19/25\n",
      "75/75 [==============================] - 0s 2ms/step - loss: 0.3100 - accuracy: 0.9092 - val_loss: 0.3965 - val_accuracy: 0.8883\n",
      "Epoch 20/25\n",
      "75/75 [==============================] - 0s 2ms/step - loss: 0.3013 - accuracy: 0.9117 - val_loss: 0.3945 - val_accuracy: 0.8900\n",
      "Epoch 21/25\n",
      "75/75 [==============================] - 0s 2ms/step - loss: 0.2915 - accuracy: 0.9133 - val_loss: 0.3879 - val_accuracy: 0.8967\n",
      "Epoch 22/25\n",
      "75/75 [==============================] - 0s 2ms/step - loss: 0.2860 - accuracy: 0.9121 - val_loss: 0.3873 - val_accuracy: 0.8950\n",
      "Epoch 23/25\n",
      "75/75 [==============================] - 0s 4ms/step - loss: 0.2783 - accuracy: 0.9167 - val_loss: 0.3862 - val_accuracy: 0.8933\n",
      "Epoch 24/25\n",
      "75/75 [==============================] - 0s 2ms/step - loss: 0.2719 - accuracy: 0.9196 - val_loss: 0.3833 - val_accuracy: 0.9033\n",
      "Epoch 25/25\n",
      "75/75 [==============================] - 0s 2ms/step - loss: 0.2669 - accuracy: 0.9200 - val_loss: 0.3852 - val_accuracy: 0.8917\n"
     ]
    }
   ],
   "source": [
    "model = keras.Sequential([keras.layers.Flatten(input_shape=(5,5)),\n",
    "                          keras.layers.Dense(20, activation='relu'),\n",
    "                          keras.layers.Dense(15, activation='relu'),\n",
    "                          keras.layers.Dense(10, activation='softmax'),\n",
    "                          ])\n",
    "\n",
    "model.compile(optimizer='adam',\n",
    "              loss='sparse_categorical_crossentropy', metrics=['accuracy'])\n",
    "\n",
    "\n",
    "history = model.fit(train_images, train_labels, epochs=25,\n",
    "                    validation_data=(test_images, test_labels))\n"
   ]
  },
  {
   "cell_type": "code",
   "execution_count": null,
   "metadata": {},
   "outputs": [],
   "source": []
  }
 ],
 "metadata": {
  "interpreter": {
   "hash": "142202a6d55f034b892f91db51a3803b21b6416721fda582e6f8bd5f7dc308bc"
  },
  "kernelspec": {
   "display_name": "Python 3.9.7 64-bit ('venv': venv)",
   "language": "python",
   "name": "python3"
  },
  "language_info": {
   "codemirror_mode": {
    "name": "ipython",
    "version": 3
   },
   "file_extension": ".py",
   "mimetype": "text/x-python",
   "name": "python",
   "nbconvert_exporter": "python",
   "pygments_lexer": "ipython3",
   "version": "3.9.7"
  },
  "orig_nbformat": 4
 },
 "nbformat": 4,
 "nbformat_minor": 2
}
