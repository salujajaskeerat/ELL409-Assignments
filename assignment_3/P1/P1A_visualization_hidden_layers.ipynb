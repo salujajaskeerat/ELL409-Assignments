{
 "cells": [
  {
   "cell_type": "code",
   "execution_count": 1,
   "metadata": {},
   "outputs": [],
   "source": [
    "# import tensorflow as tf\n",
    "import seaborn as sns\n",
    "import matplotlib.pyplot as plt\n",
    "import numpy as np\n",
    "import pandas as pd\n",
    "%reload_ext autoreload\n",
    "%autoreload 2\n",
    "import sys\n",
    "sys.path.insert(0,'../utils/')\n",
    "from neuralNet import NeuralNet\n",
    "from search import gridSearchCV\n",
    "sns.set_style(\"darkgrid\")\n",
    "\n",
    "from search import ParamGrid"
   ]
  },
  {
   "cell_type": "code",
   "execution_count": 2,
   "metadata": {},
   "outputs": [],
   "source": [
    "def vectorized_result(j):\n",
    "\n",
    "    y = np.zeros((10, 1))\n",
    "    y[j] = 1.0\n",
    "    return y\n",
    "\n",
    "\n",
    "data = pd.read_csv('./../data/part1.csv', header=None)\n",
    "\n",
    "X = np.array(data.iloc[:, :-1])\n",
    "Y = np.array(data.iloc[:, -1], dtype=np.int32)\n",
    "n = X.shape[0]\n",
    "idx = np.arange(0, len(X))\n",
    "np.random.shuffle(idx)\n",
    "frac = int(0.8*len(X))\n",
    "train_x = [np.reshape(x, (-1, 1)) for x in X[idx[:frac]]]\n",
    "train_y = [vectorized_result(y) for y in Y[idx[:frac]]]\n",
    "train_data = list(zip(train_x, train_y))\n",
    "test_x = [np.reshape(x, (-1, 1)) for x in X[idx[frac:]]]\n",
    "test_y = Y[idx[frac:]]\n",
    "test_data = list(zip(test_x, test_y))\n"
   ]
  },
  {
   "cell_type": "code",
   "execution_count": 4,
   "metadata": {},
   "outputs": [
    {
     "name": "stdout",
     "output_type": "stream",
     "text": [
      "Epoch :1 complete: test_accuracy: 0.7083333333333334 , train_accuracy :0.7241666666666666\n",
      "Epoch :2 complete: test_accuracy: 0.82 , train_accuracy :0.8120833333333334\n",
      "Epoch :3 complete: test_accuracy: 0.8266666666666667 , train_accuracy :0.85625\n",
      "Epoch :4 complete: test_accuracy: 0.84 , train_accuracy :0.87125\n",
      "Epoch :5 complete: test_accuracy: 0.8483333333333334 , train_accuracy :0.87125\n",
      "Epoch :6 complete: test_accuracy: 0.8883333333333333 , train_accuracy :0.9441666666666667\n",
      "Epoch :7 complete: test_accuracy: 0.9016666666666666 , train_accuracy :0.9429166666666666\n",
      "Epoch :8 complete: test_accuracy: 0.8766666666666667 , train_accuracy :0.9508333333333333\n",
      "Epoch :9 complete: test_accuracy: 0.8916666666666667 , train_accuracy :0.9491666666666667\n",
      "Epoch :10 complete: test_accuracy: 0.9 , train_accuracy :0.9579166666666666\n",
      "Epoch :11 complete: test_accuracy: 0.91 , train_accuracy :0.9779166666666667\n",
      "Epoch :12 complete: test_accuracy: 0.92 , train_accuracy :0.9816666666666667\n",
      "Epoch :13 complete: test_accuracy: 0.9216666666666666 , train_accuracy :0.97875\n",
      "Epoch :14 complete: test_accuracy: 0.915 , train_accuracy :0.9833333333333333\n",
      "Epoch :15 complete: test_accuracy: 0.91 , train_accuracy :0.9841666666666666\n"
     ]
    }
   ],
   "source": [
    "\n",
    "model = NeuralNet(size=[784, 30,10],\n",
    "                  cost='cross_entropy_cost', neuron_type='tanh')\n",
    "\n",
    "train_accuracy, train_cost, test_accuracy, test_cost = model.fit(\n",
    "    train_data=train_data, epochs=15, mini_batch_size=4, eta=0.5, lmda=1e-2, test_data=test_data, verbose=True)\n"
   ]
  },
  {
   "cell_type": "code",
   "execution_count": 13,
   "metadata": {},
   "outputs": [],
   "source": [
    "first_layer_ouputs = np.array([model.ith_layer_out(x,2).reshape((28,28)) for x  in test_x])\n",
    "second_layer_outputs = np.array([model.ith_layer_out(x,1).reshape((6,5)) for x in test_x ])"
   ]
  },
  {
   "cell_type": "code",
   "execution_count": 7,
   "metadata": {},
   "outputs": [],
   "source": [
    "indices_all=[] # store indices for each digit\n",
    "\n",
    "for i in range(10):\n",
    "    indices_all.append(np.where(test_y==i)[0])\n"
   ]
  },
  {
   "cell_type": "code",
   "execution_count": 74,
   "metadata": {},
   "outputs": [
    {
     "data": {
      "image/png": "[encoded data removed]",
      "text/plain": [
       "<Figure size 1080x720 with 10 Axes>"
      ]
     },
     "metadata": {},
     "output_type": "display_data"
    }
   ],
   "source": [
    "# Plotting first layer output (Input layer)\n",
    "fig, axes = plt.subplots(nrows=2, ncols=5, figsize=(15, 10))\n",
    "fig.subplots_adjust(wspace=0.05, bottom=0.5, top=0.95)\n",
    "for i,ax in zip(np.arange(0,10),np.ravel(axes)):\n",
    "    ax.set_title('- {} -'.format(i), fontsize=16)\n",
    "    ax.imshow(first_layer_ouputs[indices_all[i]],cmap=plt.cm.binary)\n",
    "    ax.axis('off')\n",
    "\n",
    "# plt.tight_layout(f.subplots_adjust(wspace=0.05, bottom=0.5, top=0.95))\n"
   ]
  },
  {
   "cell_type": "code",
   "execution_count": 14,
   "metadata": {},
   "outputs": [
    {
     "data": {
      "image/png": "[encoded data removed]",
      "text/plain": [
       "<Figure size 1080x720 with 10 Axes>"
      ]
     },
     "metadata": {},
     "output_type": "display_data"
    }
   ],
   "source": [
    "# Plotting first layer output (Input layer)\n",
    "fig, axes = plt.subplots(nrows=2, ncols=5, figsize=(15, 10))\n",
    "fig.subplots_adjust(wspace=0.05, bottom=0.5, top=0.95)\n",
    "for i, ax in zip(np.arange(0, 10), np.ravel(axes)):\n",
    "    ax.set_title('- {} -'.format(i), fontsize=16)\n",
    "    ax.imshow(np.sum(second_layer_outputs[indices_all[i]],axis=0),cmap='Blues')\n",
    "    ax.axis('off')\n",
    "\n",
    "# plt.tight_layout(f.subplots_adjust(wspace=0.05, bottom=0.5, top=0.95))\n"
   ]
  },
  {
   "cell_type": "markdown",
   "metadata": {},
   "source": [
    "These patterns look sufficiently random - except for the digits 4 and 9, which look remarkably similar. This makes sense as the hand-written digits themselves strongly resemble each other in the writing style used in the US, on which the MNIST dataset is based.\n",
    "\n",
    "We quantify the similarities between the normalized static first-hidden layer patterns for pairs of digits by multiplication and summation over these patterns"
   ]
  },
  {
   "cell_type": "code",
   "execution_count": 106,
   "metadata": {},
   "outputs": [
    {
     "data": {
      "text/plain": [
       "(600, 100)"
      ]
     },
     "execution_count": 106,
     "metadata": {},
     "output_type": "execute_result"
    }
   ],
   "source": [
    "second_layer_outputs_flatten =  np.array(\n",
    "    [model.ith_layer_out(x, 1).reshape(-1,) for x in test_x])\n",
    "\n",
    "second_layer_outputs_flatten.shape\n"
   ]
  },
  {
   "cell_type": "code",
   "execution_count": 108,
   "metadata": {},
   "outputs": [],
   "source": [
    "from itertools import product"
   ]
  },
  {
   "cell_type": "code",
   "execution_count": 114,
   "metadata": {},
   "outputs": [],
   "source": [
    "similarity_layer = np.zeros((10, 10))\n",
    "\n",
    "for i ,j in product(np.arange(0,10),np.arange(0,10)):\n",
    "        sum_i_normalized = np.sqrt(1+(np.sum(second_layer_outputs_flatten[indices_all[i]], axis=0)/np.sum(second_layer_outputs_flatten[indices_all[i]])))\n",
    "        sum_j_normalized = np.sqrt(1+ (np.sum(second_layer_outputs_flatten[indices_all[j]], axis=0)/np.sum(second_layer_outputs_flatten[indices_all[j]])))\n",
    "        similarity_layer[i, j] = np.sum(sum_i_normalized*sum_j_normalized)\n"
   ]
  },
  {
   "cell_type": "code",
   "execution_count": 124,
   "metadata": {},
   "outputs": [
    {
     "data": {
      "text/plain": [
       "(10, 10)"
      ]
     },
     "execution_count": 124,
     "metadata": {},
     "output_type": "execute_result"
    }
   ],
   "source": [
    "similarity_layer.shape"
   ]
  },
  {
   "cell_type": "code",
   "execution_count": 131,
   "metadata": {},
   "outputs": [
    {
     "data": {
      "image/png": "[encoded data removed]",
      "text/plain": [
       "<Figure size 720x360 with 1 Axes>"
      ]
     },
     "metadata": {},
     "output_type": "display_data"
    }
   ],
   "source": [
    "plt.figure(figsize=(10,5))\n",
    "plt.imshow(similarity_layer,origin='lower',cmap='Blues')\n",
    "plt.title(\"Similarity in outpts of hidden layers \")\n",
    "plt.xticks(np.arange(0,10))\n",
    "plt.yticks(np.arange(0,10))\n",
    "plt.grid(False)\n",
    "plt.show()\n"
   ]
  },
  {
   "cell_type": "code",
   "execution_count": null,
   "metadata": {},
   "outputs": [],
   "source": []
  }
 ],
 "metadata": {
  "interpreter": {
   "hash": "142202a6d55f034b892f91db51a3803b21b6416721fda582e6f8bd5f7dc308bc"
  },
  "kernelspec": {
   "display_name": "Python 3.9.7 64-bit ('venv': venv)",
   "language": "python",
   "name": "python3"
  },
  "language_info": {
   "codemirror_mode": {
    "name": "ipython",
    "version": 3
   },
   "file_extension": ".py",
   "mimetype": "text/x-python",
   "name": "python",
   "nbconvert_exporter": "python",
   "pygments_lexer": "ipython3",
   "version": "3.9.7"
  },
  "orig_nbformat": 4
 },
 "nbformat": 4,
 "nbformat_minor": 2
}
