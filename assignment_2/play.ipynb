{
 "cells": [
  {
   "cell_type": "code",
   "execution_count": null,
   "metadata": {},
   "outputs": [],
   "source": [
    "\n",
    "%reload_ext autoreload\n",
    "%autoreload 2\n",
    "from utils.data_generator import *\n",
    "import numpy as np\n",
    "import pandas as pd\n",
    "import matplotlib.pyplot as plt\n",
    "import seaborn as sns\n",
    "from utils.svm_smo_full import *\n",
    "\n",
    "%reload_ext autoreload\n",
    "%autoreload 2\n"
   ]
  },
  {
   "cell_type": "code",
   "execution_count": 29,
   "metadata": {},
   "outputs": [
    {
     "data": {
      "image/png": "[encoded data removed]",
      "text/plain": [
       "<Figure size 432x288 with 1 Axes>"
      ]
     },
     "metadata": {
      "needs_background": "light"
     },
     "output_type": "display_data"
    }
   ],
   "source": [
    "x1, y1, x2, y2 = generate_linearly_separable_data(\n",
    "    cov=[[0.9, 0.05], [0.05, 0.9]], count=50)\n",
    "plt.figure()\n",
    "sns.scatterplot(x=x1[:, 0], y=x1[:, 1], label='+1', color='darkred')\n",
    "sns.scatterplot(x=x2[:, 0], y=x2[:, 1], label='-1', color='darkblue')\n",
    "plt.xlabel('X1'), plt.ylabel('X2'), plt.tight_layout(\n",
    "), plt.title('Synthetically generated Samples')\n",
    "plt.show()\n"
   ]
  },
  {
   "cell_type": "code",
   "execution_count": 30,
   "metadata": {},
   "outputs": [],
   "source": [
    "X_train = np.vstack((x1, x2))\n",
    "Y_train = np.hstack((y1, y2))\n"
   ]
  },
  {
   "cell_type": "code",
   "execution_count": 48,
   "metadata": {},
   "outputs": [
    {
     "data": {
      "text/plain": [
       "0.99"
      ]
     },
     "execution_count": 48,
     "metadata": {},
     "output_type": "execute_result"
    }
   ],
   "source": [
    "model = SVM_SMO_FULL(C=1e1,kernel='rbf',gamma=1e3)\n",
    "model.fit(X_train,Y_train,epsilon=1e-3,max_passes=10)\n",
    "\n",
    "model.score(X_train,Y_train)[1]"
   ]
  },
  {
   "cell_type": "code",
   "execution_count": 34,
   "metadata": {},
   "outputs": [
    {
     "data": {
      "text/plain": [
       "0.99"
      ]
     },
     "execution_count": 34,
     "metadata": {},
     "output_type": "execute_result"
    }
   ],
   "source": [
    "from utils.svm_libsvm import *\n",
    "model =SVM_LIBSVM(C=1e1,kernel='rbf',gamma=1e3)\n",
    "model.fit(X_train,Y_train)\n",
    "model.score(X_train,Y_train)[1]"
   ]
  },
  {
   "cell_type": "code",
   "execution_count": 37,
   "metadata": {},
   "outputs": [
    {
     "data": {
      "text/plain": [
       "0.99"
      ]
     },
     "execution_count": 37,
     "metadata": {},
     "output_type": "execute_result"
    }
   ],
   "source": [
    "from utils.svm_cvx import *\n",
    "model = SVM_CVX(C=1e1, kernel='rbf', gamma=1e3)\n",
    "model.fit(X_train, Y_train)\n",
    "model.score(X_train, Y_train)[1]\n"
   ]
  },
  {
   "cell_type": "code",
   "execution_count": 50,
   "metadata": {},
   "outputs": [
    {
     "data": {
      "text/plain": [
       "0.99"
      ]
     },
     "execution_count": 50,
     "metadata": {},
     "output_type": "execute_result"
    }
   ],
   "source": [
    "from utils.svm_smo_simple import *\n",
    "model =SVM_SMO_SIMPLE(C=1e1,kernel='rbf',gamma=1e3)\n",
    "model.fit(X_train,Y_train,max_passes=10)\n",
    "model.score(X_train,Y_train)[1]"
   ]
  }
 ],
 "metadata": {
  "interpreter": {
   "hash": "142202a6d55f034b892f91db51a3803b21b6416721fda582e6f8bd5f7dc308bc"
  },
  "kernelspec": {
   "display_name": "Python 3.9.7 64-bit ('venv': venv)",
   "name": "python3"
  },
  "language_info": {
   "codemirror_mode": {
    "name": "ipython",
    "version": 3
   },
   "file_extension": ".py",
   "mimetype": "text/x-python",
   "name": "python",
   "nbconvert_exporter": "python",
   "pygments_lexer": "ipython3",
   "version": "3.9.7"
  },
  "orig_nbformat": 4
 },
 "nbformat": 4,
 "nbformat_minor": 2
}
